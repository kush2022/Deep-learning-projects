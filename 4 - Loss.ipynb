{
 "cells": [
  {
   "cell_type": "markdown",
   "id": "7f0d34f3",
   "metadata": {},
   "source": [
    "## Loss \n",
    "> It quantifies how well the model is performing on a specific task, such as classification or regression. \n",
    "> The loss function measures the error or the difference between the predicted output and the true target values. \n",
    "> The goal during training is to minimize this loss, which means making the model's predictions as close as possible to the actual values.\n"
   ]
  },
  {
   "cell_type": "markdown",
   "id": "318cd286",
   "metadata": {},
   "source": [
    "## 1. Mean Squared Error (MSE) loss \n",
    "- This loss is used in regression where the goal is to predict continuous values. \n",
    "- It calculates the average squared difference betweeen the predicted and true values.\n",
    "- Formula: MSE = (1/n) * Σ(y_true - y_pred)^2, where n is the number of data points."
   ]
  },
  {
   "cell_type": "markdown",
   "id": "f7576e1d",
   "metadata": {},
   "source": [
    "## 2. Binary Cross-Entropy Loss (Log Loss) - Binary classification \n",
    "- This loss is used in binary classification tasks where there are two classes.\n",
    "- It measures the dissimilarity between the predicted probabilities and the true binary labels.\n",
    "- Formula: -Σ(y_true * log(y_pred) + (1 - y_true) * log(1 - y_pred)) for each example."
   ]
  },
  {
   "cell_type": "markdown",
   "id": "84ddd421",
   "metadata": {},
   "source": [
    "## 3. Categorical Cross-Entropy Loss (Multiclass Classification)\n",
    "- This loss is used in multiclass classification tasks with more than two classes.\n",
    "- It quantifies the difference between predicted class probabilities and true one-hot encoded class labels. \n",
    "- Formula: -Σ(y_true * log(y_pred)) for each example.\n"
   ]
  },
  {
   "cell_type": "markdown",
   "id": "3dc760d0",
   "metadata": {},
   "source": [
    "## 4. Sparse Categorical Cross-Entropy Loss (Multiclass Classification with Integer labels)\n",
    "- This is similar to categorical cross entropy but is used when true class labels are integers rather thatn one-hot encoded vectors.\n"
   ]
  },
  {
   "cell_type": "code",
   "execution_count": null,
   "id": "d344e059",
   "metadata": {},
   "outputs": [],
   "source": []
  }
 ],
 "metadata": {
  "kernelspec": {
   "display_name": "Python 3 (ipykernel)",
   "language": "python",
   "name": "python3"
  },
  "language_info": {
   "codemirror_mode": {
    "name": "ipython",
    "version": 3
   },
   "file_extension": ".py",
   "mimetype": "text/x-python",
   "name": "python",
   "nbconvert_exporter": "python",
   "pygments_lexer": "ipython3",
   "version": "3.11.3"
  }
 },
 "nbformat": 4,
 "nbformat_minor": 5
}
