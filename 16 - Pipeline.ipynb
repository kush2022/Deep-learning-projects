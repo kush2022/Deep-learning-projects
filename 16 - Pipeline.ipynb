{
 "cells": [
  {
   "cell_type": "markdown",
   "id": "8af2a87c",
   "metadata": {},
   "source": [
    "## Pipeline \n",
    "- is a series of processing steps that prepare and load data into a machine learning model for training or inference.\n",
    "\n",
    "\n",
    "**Here are the key components and steps involved in building a TensorFlow input pipeline:**\n",
    "\n",
    "1. **Data source** \n",
    "- Define the source of your data, which can be in the form of files, databases or any other data storage. \n",
    "\n",
    "2. **Data Loading**\n",
    "- Load data from the source into memory. \n",
    "- This step typically involves reading and decoding data from files and converting it into TensorFlow tensors. \n",
    "\n",
    "3. **Data Preprocessing**\n",
    "- Preprocess the data to prepare it for model input. Common preprocessing steps include resizing images, normalizing values, tokenizing text, and applying data augmentation techniques. \n",
    "\n",
    "4. **Data Augmentation**\n",
    "- If working with image data, data augmentation can be applied to increase the diversity of the training data. This helps the model generalize better. Common augmentations include rotations, flips, and random crops.\n",
    "\n",
    "5. **Shuffling (Optional):**\n",
    "- Randomly shuffle the examples within each batch to prevent the model from learning the order of the data. Shuffling is especially important in training to ensure that the model generalizes well.\n",
    "\n",
    "6. **Batching:**  \n",
    "- Divide the data into batches, where each batch contains a fixed number of examples (batch size). Batching improves training efficiency by allowing the model to process multiple examples in parallel.\n",
    "\n",
    "7. **Prefetching:**\n",
    "- Use the tf.data.Dataset.prefetch method to overlap data loading and model execution. Prefetching loads and preprocesses data for the next batch while the current batch is being processed by the model, reducing idle time and improving overall throughput.\n",
    "\n"
   ]
  },
  {
   "cell_type": "code",
   "execution_count": 1,
   "id": "f0f52474",
   "metadata": {},
   "outputs": [
    {
     "name": "stderr",
     "output_type": "stream",
     "text": [
      "2023-08-23 08:49:01.353652: I tensorflow/tsl/cuda/cudart_stub.cc:28] Could not find cuda drivers on your machine, GPU will not be used.\n",
      "2023-08-23 08:49:01.766686: I tensorflow/tsl/cuda/cudart_stub.cc:28] Could not find cuda drivers on your machine, GPU will not be used.\n",
      "2023-08-23 08:49:01.772251: I tensorflow/core/platform/cpu_feature_guard.cc:182] This TensorFlow binary is optimized to use available CPU instructions in performance-critical operations.\n",
      "To enable the following instructions: AVX2 FMA, in other operations, rebuild TensorFlow with the appropriate compiler flags.\n",
      "2023-08-23 08:49:03.165372: W tensorflow/compiler/tf2tensorrt/utils/py_utils.cc:38] TF-TRT Warning: Could not find TensorRT\n"
     ]
    }
   ],
   "source": [
    "import tensorflow as tf "
   ]
  },
  {
   "cell_type": "markdown",
   "id": "4e0229d9",
   "metadata": {},
   "source": [
    "# <span style=\"color: red\">Create tf dataset from a list </span>"
   ]
  },
  {
   "cell_type": "code",
   "execution_count": 2,
   "id": "b08c273e",
   "metadata": {},
   "outputs": [
    {
     "data": {
      "text/plain": [
       "<_TensorSliceDataset element_spec=TensorSpec(shape=(), dtype=tf.int32, name=None)>"
      ]
     },
     "execution_count": 2,
     "metadata": {},
     "output_type": "execute_result"
    }
   ],
   "source": [
    "daily_sales_numbers = [21, 22, -108, 31, -1, 32, 34,31]\n",
    "\n",
    "tf_dataset = tf.data.Dataset.from_tensor_slices(daily_sales_numbers)\n",
    "tf_dataset\n"
   ]
  },
  {
   "cell_type": "code",
   "execution_count": 3,
   "id": "78190e30",
   "metadata": {},
   "outputs": [
    {
     "name": "stdout",
     "output_type": "stream",
     "text": [
      "21\n",
      "22\n",
      "-108\n",
      "31\n",
      "-1\n",
      "32\n",
      "34\n",
      "31\n"
     ]
    }
   ],
   "source": [
    "# iterate through the dataset \n",
    "for sale in tf_dataset:\n",
    "    print(sale.numpy())"
   ]
  },
  {
   "cell_type": "code",
   "execution_count": 4,
   "id": "84273df6",
   "metadata": {},
   "outputs": [
    {
     "name": "stdout",
     "output_type": "stream",
     "text": [
      "21\n",
      "22\n",
      "-108\n",
      "31\n",
      "-1\n",
      "32\n",
      "34\n",
      "31\n"
     ]
    }
   ],
   "source": [
    "# iterate through elements as numpy elements\n",
    "for sales in tf_dataset.as_numpy_iterator():\n",
    "    print(sales)"
   ]
  },
  {
   "cell_type": "code",
   "execution_count": 5,
   "id": "a7c75e57",
   "metadata": {},
   "outputs": [
    {
     "name": "stdout",
     "output_type": "stream",
     "text": [
      "21\n",
      "22\n",
      "31\n",
      "32\n",
      "34\n",
      "31\n"
     ]
    }
   ],
   "source": [
    "# filter sales numbers that are < 0\n",
    "tf_dataset = tf_dataset.filter(lambda x: x > 0)\n",
    "\n",
    "for sales in tf_dataset:\n",
    "    print(sales.numpy())"
   ]
  },
  {
   "cell_type": "markdown",
   "id": "b75d258a",
   "metadata": {},
   "source": [
    "**Convert sales numbers from USA dollars to Indian Rupees (INR) Assuming 1->72 conversation rate**"
   ]
  },
  {
   "cell_type": "code",
   "execution_count": 6,
   "id": "574582b3",
   "metadata": {},
   "outputs": [
    {
     "name": "stdout",
     "output_type": "stream",
     "text": [
      "1512\n",
      "1584\n",
      "2232\n",
      "2304\n",
      "2448\n",
      "2232\n"
     ]
    }
   ],
   "source": [
    "tf_dataset = tf_dataset.map(lambda x: x *72)\n",
    "for sales in tf_dataset:\n",
    "    print(sales.numpy())"
   ]
  },
  {
   "cell_type": "code",
   "execution_count": 9,
   "id": "9de16ac9",
   "metadata": {},
   "outputs": [
    {
     "name": "stdout",
     "output_type": "stream",
     "text": [
      "1584\n",
      "1512\n",
      "2232\n",
      "2304\n",
      "2232\n",
      "2448\n"
     ]
    }
   ],
   "source": [
    "# shuffle \n",
    "tf_dataset = tf_dataset.shuffle(2)\n",
    "\n",
    "for sales in tf_dataset:\n",
    "    print(sales.numpy())"
   ]
  },
  {
   "cell_type": "code",
   "execution_count": 10,
   "id": "b158f90b",
   "metadata": {},
   "outputs": [
    {
     "name": "stdout",
     "output_type": "stream",
     "text": [
      "[2304 1584]\n",
      "[2448 2232]\n",
      "[2232 1512]\n"
     ]
    }
   ],
   "source": [
    "# batching \n",
    "for sales in tf_dataset.batch(2):\n",
    "    print(sales.numpy())"
   ]
  },
  {
   "cell_type": "code",
   "execution_count": 11,
   "id": "24bf9c3a",
   "metadata": {},
   "outputs": [
    {
     "name": "stdout",
     "output_type": "stream",
     "text": [
      "[1584 1512]\n",
      "[2304 2448]\n",
      "[2232 2232]\n"
     ]
    }
   ],
   "source": [
    "# perform all of the above operations in one shot \n",
    "tf_dataset = tf.data.Dataset.from_tensor_slices(daily_sales_numbers)\n",
    "\n",
    "tf_dataset = tf_dataset.filter(lambda x: x > 0).map(lambda y: y * 72).shuffle(2).batch(2)\n",
    "\n",
    "for sales in tf_dataset:\n",
    "    print(sales.numpy())"
   ]
  },
  {
   "cell_type": "markdown",
   "id": "97c33fee",
   "metadata": {},
   "source": [
    "## Images"
   ]
  },
  {
   "cell_type": "code",
   "execution_count": 12,
   "id": "eb7e355e",
   "metadata": {},
   "outputs": [],
   "source": [
    "images_ds = tf.data.Dataset.list_files('./images/*/*', shuffle=False)\n"
   ]
  },
  {
   "cell_type": "code",
   "execution_count": 13,
   "id": "e07ea591",
   "metadata": {},
   "outputs": [
    {
     "data": {
      "text/plain": [
       "130"
      ]
     },
     "execution_count": 13,
     "metadata": {},
     "output_type": "execute_result"
    }
   ],
   "source": [
    "image_count = len(images_ds)\n",
    "image_count"
   ]
  },
  {
   "cell_type": "code",
   "execution_count": 14,
   "id": "18e7ee85",
   "metadata": {},
   "outputs": [
    {
     "data": {
      "text/plain": [
       "tensorflow.python.data.ops.from_tensor_slices_op._TensorSliceDataset"
      ]
     },
     "execution_count": 14,
     "metadata": {},
     "output_type": "execute_result"
    }
   ],
   "source": [
    "type(images_ds)"
   ]
  },
  {
   "cell_type": "code",
   "execution_count": 15,
   "id": "67387639",
   "metadata": {},
   "outputs": [
    {
     "name": "stdout",
     "output_type": "stream",
     "text": [
      "b'./images/cat/20 Reasons Why Cats Make the Best Pets....jpg'\n",
      "b'./images/cat/7 Foods Your Cat Can_t Eat.jpg'\n",
      "b'./images/cat/A cat appears to have caught the....jpg'\n"
     ]
    }
   ],
   "source": [
    "for file in images_ds.take(3):\n",
    "    print(file.numpy())"
   ]
  },
  {
   "cell_type": "code",
   "execution_count": 16,
   "id": "bc77484b",
   "metadata": {},
   "outputs": [],
   "source": [
    "class_names = ['cat', 'dog']"
   ]
  },
  {
   "cell_type": "code",
   "execution_count": 17,
   "id": "b4d0f5d5",
   "metadata": {},
   "outputs": [],
   "source": [
    "train_size = int(image_count*0.8)\n",
    "train_ds = images_ds.take(train_size)\n",
    "test_ds = images_ds.skip(train_size)"
   ]
  },
  {
   "cell_type": "code",
   "execution_count": 18,
   "id": "53791984",
   "metadata": {},
   "outputs": [
    {
     "data": {
      "text/plain": [
       "104"
      ]
     },
     "execution_count": 18,
     "metadata": {},
     "output_type": "execute_result"
    }
   ],
   "source": [
    "\n",
    "len(train_ds)"
   ]
  },
  {
   "cell_type": "code",
   "execution_count": 19,
   "id": "95942b21",
   "metadata": {},
   "outputs": [
    {
     "data": {
      "text/plain": [
       "26"
      ]
     },
     "execution_count": 19,
     "metadata": {},
     "output_type": "execute_result"
    }
   ],
   "source": [
    "len(test_ds)"
   ]
  },
  {
   "cell_type": "code",
   "execution_count": 20,
   "id": "0112782d",
   "metadata": {},
   "outputs": [],
   "source": [
    "def get_label(file_path):\n",
    "    import os \n",
    "    parts = tf.strings.split(file_path, os.path.sep)\n",
    "    return parts[-2]"
   ]
  },
  {
   "cell_type": "code",
   "execution_count": 22,
   "id": "3fd874b5",
   "metadata": {},
   "outputs": [
    {
     "data": {
      "text/plain": [
       "<tf.Tensor: shape=(), dtype=string, numpy=b''>"
      ]
     },
     "execution_count": 22,
     "metadata": {},
     "output_type": "execute_result"
    }
   ],
   "source": [
    "get_label('./images//dog//20 Reasons Why Cats Make the Best Pets....jpg')"
   ]
  },
  {
   "cell_type": "code",
   "execution_count": 23,
   "id": "8591e771",
   "metadata": {},
   "outputs": [],
   "source": [
    "def process_image(file_path):\n",
    "    label = get_label(file_path)\n",
    "    img = tf.io.read_file(file_path)\n",
    "    img = tf.image.decode_jpeg(img)\n",
    "    img = tf.image.resize(img, [128, 128])\n",
    "    \n",
    "    return img, label"
   ]
  },
  {
   "cell_type": "code",
   "execution_count": 25,
   "id": "1e801a16",
   "metadata": {},
   "outputs": [
    {
     "data": {
      "text/plain": [
       "array([[[1.75414062e+02, 1.76414062e+02, 1.71414062e+02],\n",
       "        [1.79000000e+02, 1.80000000e+02, 1.75000000e+02],\n",
       "        [1.79488464e+02, 1.80488464e+02, 1.75488464e+02],\n",
       "        [1.82414062e+02, 1.83414062e+02, 1.78414062e+02],\n",
       "        [1.82000000e+02, 1.81000000e+02, 1.77000000e+02],\n",
       "        [1.81114441e+02, 1.80114441e+02, 1.76114441e+02],\n",
       "        [1.83585938e+02, 1.82585938e+02, 1.78585938e+02],\n",
       "        [1.82585938e+02, 1.81585938e+02, 1.77585938e+02],\n",
       "        [1.81000000e+02, 1.80000000e+02, 1.76000000e+02],\n",
       "        [1.84068665e+02, 1.83068665e+02, 1.79068665e+02],\n",
       "        [1.82712524e+02, 1.81712524e+02, 1.77712524e+02],\n",
       "        [1.87546814e+02, 1.84546814e+02, 1.79546814e+02],\n",
       "        [1.87161072e+02, 1.84161072e+02, 1.79161072e+02],\n",
       "        [1.87000000e+02, 1.84000000e+02, 1.79000000e+02],\n",
       "        [1.86313782e+02, 1.83313782e+02, 1.78313782e+02],\n",
       "        [1.78621521e+02, 1.77621521e+02, 1.72621521e+02],\n",
       "        [1.75828125e+02, 1.74828125e+02, 1.69828125e+02],\n",
       "        [1.69627686e+02, 1.69627686e+02, 1.61627686e+02],\n",
       "        [1.56351562e+02, 1.56351562e+02, 1.48351562e+02],\n",
       "        [1.50819397e+02, 1.50819397e+02, 1.42819397e+02],\n",
       "        [1.49738220e+02, 1.46738220e+02, 1.37738220e+02],\n",
       "        [1.52366394e+02, 1.49366394e+02, 1.40366394e+02],\n",
       "        [1.49585938e+02, 1.46585938e+02, 1.37585938e+02],\n",
       "        [1.57633118e+02, 1.54633118e+02, 1.45633118e+02],\n",
       "        [1.59420776e+02, 1.55420776e+02, 1.46420776e+02],\n",
       "        [1.56562500e+02, 1.52562500e+02, 1.43562500e+02],\n",
       "        [1.44373840e+02, 1.42373840e+02, 1.29373840e+02],\n",
       "        [1.21898438e+02, 1.19898438e+02, 1.06898438e+02],\n",
       "        [8.99921875e+01, 9.62890625e+01, 8.96406250e+01],\n",
       "        [5.47025757e+01, 6.90228882e+01, 7.13041382e+01],\n",
       "        [2.78639526e+01, 4.78639526e+01, 5.88483276e+01],\n",
       "        [1.43281250e+01, 4.16562500e+01, 5.39921875e+01],\n",
       "        [2.32812500e+00, 3.43858643e+01, 5.01968384e+01],\n",
       "        [2.41406250e+00, 3.04140625e+01, 5.20000000e+01],\n",
       "        [4.41406250e+00, 3.24140625e+01, 5.40000000e+01],\n",
       "        [7.65625000e-01, 3.28260498e+01, 5.32684937e+01],\n",
       "        [8.40435791e+00, 3.54043579e+01, 5.24043579e+01],\n",
       "        [4.82812500e+00, 3.58281250e+01, 5.58281250e+01],\n",
       "        [4.93328857e+00, 3.59332886e+01, 5.59332886e+01],\n",
       "        [1.60390625e+01, 4.20390625e+01, 5.70390625e+01],\n",
       "        [1.84087524e+01, 4.44087524e+01, 5.94087524e+01],\n",
       "        [2.40869751e+01, 4.81718750e+01, 6.25335083e+01],\n",
       "        [3.71195679e+01, 5.61195679e+01, 7.01195679e+01],\n",
       "        [5.01406250e+01, 6.83125000e+01, 7.47265625e+01],\n",
       "        [7.45937500e+01, 8.57968750e+01, 8.53984375e+01],\n",
       "        [1.04867188e+02, 1.07867188e+02, 1.00867188e+02],\n",
       "        [1.25226562e+02, 1.28226562e+02, 1.19226562e+02],\n",
       "        [1.45656677e+02, 1.42656677e+02, 1.35656677e+02],\n",
       "        [1.57085938e+02, 1.54085938e+02, 1.47085938e+02],\n",
       "        [1.59171875e+02, 1.56171875e+02, 1.49171875e+02],\n",
       "        [1.57140625e+02, 1.52570312e+02, 1.45281250e+02],\n",
       "        [1.48695312e+02, 1.44695312e+02, 1.32695312e+02],\n",
       "        [1.34679688e+02, 1.22679688e+02, 1.10679688e+02],\n",
       "        [1.12098450e+02, 9.25437622e+01, 8.44343872e+01],\n",
       "        [9.00139771e+01, 6.50139771e+01, 6.80139771e+01],\n",
       "        [7.20078125e+01, 4.40078125e+01, 5.60078125e+01],\n",
       "        [6.47767944e+01, 3.38549194e+01, 4.63158569e+01],\n",
       "        [6.31328125e+01, 2.91328125e+01, 4.31328125e+01],\n",
       "        [6.83331909e+01, 3.03331909e+01, 4.13331909e+01],\n",
       "        [7.29531250e+01, 3.59531250e+01, 4.39531250e+01],\n",
       "        [7.49687500e+01, 3.79687500e+01, 4.59687500e+01],\n",
       "        [7.23831787e+01, 3.43831787e+01, 4.53831787e+01],\n",
       "        [7.23267822e+01, 3.43267822e+01, 4.53267822e+01],\n",
       "        [7.19038696e+01, 3.39038696e+01, 4.49038696e+01],\n",
       "        [7.54921875e+01, 3.74921875e+01, 4.84921875e+01],\n",
       "        [7.91718750e+01, 3.66640625e+01, 4.61562500e+01],\n",
       "        [8.70000000e+01, 4.20000000e+01, 4.90000000e+01],\n",
       "        [9.50000000e+01, 4.20000000e+01, 4.80000000e+01],\n",
       "        [1.04089966e+02, 4.64765625e+01, 5.18631592e+01],\n",
       "        [1.07642944e+02, 4.64710693e+01, 4.78851318e+01],\n",
       "        [1.06000000e+02, 4.70000000e+01, 4.98281250e+01],\n",
       "        [1.06979919e+02, 4.63482056e+01, 4.74921875e+01],\n",
       "        [1.04414062e+02, 4.54140625e+01, 4.74140625e+01],\n",
       "        [1.04585938e+02, 4.55859375e+01, 5.15859375e+01],\n",
       "        [1.06325012e+02, 4.73250122e+01, 5.13250122e+01],\n",
       "        [1.04734375e+02, 4.64140625e+01, 5.01875000e+01],\n",
       "        [1.02898438e+02, 4.78984375e+01, 5.08984375e+01],\n",
       "        [1.02198853e+02, 4.71988525e+01, 5.01988525e+01],\n",
       "        [1.04858093e+02, 4.58580933e+01, 4.98580933e+01],\n",
       "        [1.05328125e+02, 4.72421875e+01, 4.65000000e+01],\n",
       "        [1.08858093e+02, 4.63728638e+01, 4.73728638e+01],\n",
       "        [1.15963562e+02, 5.09635620e+01, 4.69635620e+01],\n",
       "        [1.16200989e+02, 5.12009888e+01, 4.72009888e+01],\n",
       "        [1.22414062e+02, 5.54140625e+01, 4.94140625e+01],\n",
       "        [1.23000000e+02, 5.60000000e+01, 5.00000000e+01],\n",
       "        [1.20319519e+02, 5.53195190e+01, 5.13195190e+01],\n",
       "        [1.18321350e+02, 5.33213501e+01, 4.93213501e+01],\n",
       "        [1.18000000e+02, 5.40000000e+01, 5.20000000e+01],\n",
       "        [1.15960938e+02, 5.49609375e+01, 5.19609375e+01],\n",
       "        [1.10414062e+02, 5.04140625e+01, 5.00468750e+01],\n",
       "        [1.02304688e+02, 4.63046875e+01, 4.73046875e+01],\n",
       "        [9.98458862e+01, 4.78458862e+01, 5.18458862e+01],\n",
       "        [9.43515625e+01, 4.56484375e+01, 4.60000000e+01],\n",
       "        [8.88123169e+01, 4.38123169e+01, 4.76404419e+01],\n",
       "        [8.81718750e+01, 4.00000000e+01, 4.60000000e+01],\n",
       "        [8.72578125e+01, 3.90859375e+01, 4.50859375e+01],\n",
       "        [8.34468384e+01, 3.84468384e+01, 4.54468384e+01],\n",
       "        [8.05735474e+01, 3.55735474e+01, 4.25735474e+01],\n",
       "        [7.60000000e+01, 3.60000000e+01, 4.40000000e+01],\n",
       "        [7.37109375e+01, 3.47656250e+01, 4.27656250e+01],\n",
       "        [6.73574829e+01, 3.43574829e+01, 4.53574829e+01],\n",
       "        [7.40000000e+01, 4.26953125e+01, 5.16093750e+01],\n",
       "        [8.58281250e+01, 5.68281250e+01, 6.08281250e+01],\n",
       "        [8.60619507e+01, 6.00619507e+01, 6.30619507e+01],\n",
       "        [8.55781250e+01, 5.95781250e+01, 6.25781250e+01],\n",
       "        [8.97444458e+01, 6.37444458e+01, 6.67444458e+01],\n",
       "        [8.65234375e+01, 5.55234375e+01, 6.05234375e+01],\n",
       "        [8.52460327e+01, 5.24257202e+01, 5.56991577e+01],\n",
       "        [8.16631470e+01, 5.16631470e+01, 5.96631470e+01],\n",
       "        [6.91619263e+01, 5.00916138e+01, 5.64431763e+01],\n",
       "        [4.17083130e+01, 3.84505005e+01, 5.49348755e+01],\n",
       "        [1.71718750e+01, 2.98281250e+01, 4.94140625e+01],\n",
       "        [8.59375000e-02, 2.66215210e+01, 4.87074585e+01],\n",
       "        [0.00000000e+00, 2.27981567e+01, 4.57981567e+01],\n",
       "        [0.00000000e+00, 2.64296875e+01, 5.30000000e+01],\n",
       "        [2.67004395e+00, 2.85859375e+01, 5.26808472e+01],\n",
       "        [1.73203125e+01, 3.83203125e+01, 5.73203125e+01],\n",
       "        [3.34765625e+01, 5.04765625e+01, 6.64765625e+01],\n",
       "        [4.93515625e+01, 6.23515625e+01, 7.13515625e+01],\n",
       "        [6.84985962e+01, 7.84985962e+01, 7.97095337e+01],\n",
       "        [8.88895264e+01, 9.68895264e+01, 9.88895264e+01],\n",
       "        [1.00054993e+02, 1.02054993e+02, 9.90549927e+01],\n",
       "        [1.00747253e+02, 1.01747253e+02, 9.67472534e+01],\n",
       "        [1.01000000e+02, 1.02000000e+02, 9.70000000e+01],\n",
       "        [9.84953003e+01, 9.94953003e+01, 9.44953003e+01],\n",
       "        [9.85081787e+01, 9.95081787e+01, 9.45081787e+01],\n",
       "        [9.81165161e+01, 9.91165161e+01, 9.41165161e+01],\n",
       "        [9.68359375e+01, 9.78359375e+01, 9.28359375e+01]],\n",
       "\n",
       "       [[1.77242188e+02, 1.78242188e+02, 1.73242188e+02],\n",
       "        [1.77892639e+02, 1.78892639e+02, 1.73892639e+02],\n",
       "        [1.77285706e+02, 1.78285706e+02, 1.73285706e+02],\n",
       "        [1.77906250e+02, 1.78906250e+02, 1.73906250e+02],\n",
       "        [1.82000000e+02, 1.81000000e+02, 1.77000000e+02],\n",
       "        [1.81851990e+02, 1.80851990e+02, 1.76851990e+02],\n",
       "        [1.83242188e+02, 1.82242188e+02, 1.78242188e+02],\n",
       "        [1.80888367e+02, 1.79888367e+02, 1.75888367e+02],\n",
       "        [1.82402039e+02, 1.81402039e+02, 1.77402039e+02],\n",
       "        [1.82971619e+02, 1.81971619e+02, 1.77971619e+02],\n",
       "        [1.84554688e+02, 1.83554688e+02, 1.79554688e+02],\n",
       "        [1.89000000e+02, 1.86000000e+02, 1.81000000e+02],\n",
       "        [1.87101562e+02, 1.84101562e+02, 1.79101562e+02],\n",
       "        [1.87000000e+02, 1.84000000e+02, 1.79000000e+02],\n",
       "        [1.83699158e+02, 1.80699158e+02, 1.75699158e+02],\n",
       "        [1.77065125e+02, 1.76065125e+02, 1.71065125e+02],\n",
       "        [1.72828125e+02, 1.71828125e+02, 1.66828125e+02],\n",
       "        [1.63101685e+02, 1.63101685e+02, 1.55101685e+02],\n",
       "        [1.51709534e+02, 1.51709534e+02, 1.43709534e+02],\n",
       "        [1.40661316e+02, 1.40661316e+02, 1.32661316e+02],\n",
       "        [1.42383179e+02, 1.40109741e+02, 1.30867554e+02],\n",
       "        [1.42789062e+02, 1.40515625e+02, 1.31273438e+02],\n",
       "        [1.44375000e+02, 1.41375000e+02, 1.32375000e+02],\n",
       "        [1.55241272e+02, 1.52241272e+02, 1.43241272e+02],\n",
       "        [1.59960938e+02, 1.55960938e+02, 1.46960938e+02],\n",
       "        [1.58851562e+02, 1.54851562e+02, 1.45851562e+02],\n",
       "        [1.46296021e+02, 1.44296021e+02, 1.31296021e+02],\n",
       "        [1.25814636e+02, 1.23814636e+02, 1.10814636e+02],\n",
       "        [9.85156250e+01, 1.02812500e+02, 9.63038940e+01],\n",
       "        [6.19899902e+01, 7.59035034e+01, 7.68644409e+01],\n",
       "        [3.39959717e+01, 5.19978638e+01, 6.34959717e+01],\n",
       "        [1.84921875e+01, 4.34843750e+01, 5.68203125e+01],\n",
       "        [3.90032959e+00, 3.34094849e+01, 5.00813599e+01],\n",
       "        [2.75781250e+00, 3.10000000e+01, 5.12734375e+01],\n",
       "        [6.43750000e+00, 3.46796875e+01, 5.49531250e+01],\n",
       "        [3.25543213e+00, 3.40851440e+01, 5.39148560e+01],\n",
       "        [9.50781250e+00, 3.62656250e+01, 5.27812500e+01],\n",
       "        [7.72656250e+00, 3.64105835e+01, 5.26093750e+01],\n",
       "        [9.46093750e+00, 3.81298218e+01, 5.44687500e+01],\n",
       "        [1.95234375e+01, 4.47968750e+01, 5.95546875e+01],\n",
       "        [2.17734375e+01, 4.70468750e+01, 6.18046875e+01],\n",
       "        [2.59677124e+01, 4.84354248e+01, 6.19031372e+01],\n",
       "        [4.06202393e+01, 6.01358643e+01, 7.13780518e+01],\n",
       "        [5.60349731e+01, 7.33084106e+01, 7.75505981e+01],\n",
       "        [7.61953125e+01, 8.73984375e+01, 8.70000000e+01],\n",
       "        [1.04523438e+02, 1.07523438e+02, 1.00523438e+02],\n",
       "        [1.29421936e+02, 1.32421936e+02, 1.23421936e+02],\n",
       "        [1.48312500e+02, 1.45312500e+02, 1.38312500e+02],\n",
       "        [1.57177063e+02, 1.54177063e+02, 1.47177063e+02],\n",
       "        [1.60816467e+02, 1.57816467e+02, 1.50816467e+02],\n",
       "        [1.57140625e+02, 1.52570312e+02, 1.45281250e+02],\n",
       "        [1.48695312e+02, 1.44695312e+02, 1.32695312e+02],\n",
       "        [1.34679688e+02, 1.22679688e+02, 1.10679688e+02],\n",
       "        [1.12748474e+02, 9.31937866e+01, 8.50844116e+01],\n",
       "        [8.81328125e+01, 6.31328125e+01, 6.61328125e+01],\n",
       "        [7.04218750e+01, 4.24218750e+01, 5.44218750e+01],\n",
       "        [6.45914917e+01, 3.36696167e+01, 4.61305542e+01],\n",
       "        [6.42656250e+01, 3.02656250e+01, 4.42656250e+01],\n",
       "        [7.12421875e+01, 3.32421875e+01, 4.42421875e+01],\n",
       "        [7.49531250e+01, 3.49531250e+01, 4.39531250e+01],\n",
       "        [7.57968750e+01, 3.57968750e+01, 4.47968750e+01],\n",
       "        [7.43348389e+01, 3.43348389e+01, 4.33348389e+01],\n",
       "        [7.62618408e+01, 3.62618408e+01, 4.52618408e+01],\n",
       "        [7.70397339e+01, 3.70397339e+01, 4.60397339e+01],\n",
       "        [7.46087036e+01, 3.46087036e+01, 4.36087036e+01],\n",
       "        [8.35078125e+01, 4.02618408e+01, 4.90158691e+01],\n",
       "        [8.80000000e+01, 4.10000000e+01, 4.70000000e+01],\n",
       "        [9.54843750e+01, 4.27578125e+01, 4.70000000e+01],\n",
       "        [9.89609375e+01, 4.39609375e+01, 4.87073975e+01],\n",
       "        [1.07078552e+02, 4.83207397e+01, 4.95941772e+01],\n",
       "        [1.04484375e+02, 4.77578125e+01, 5.05156250e+01],\n",
       "        [1.05296875e+02, 4.90546875e+01, 5.27812500e+01],\n",
       "        [1.04757812e+02, 4.57578125e+01, 4.77578125e+01],\n",
       "        [1.05153381e+02, 4.61533813e+01, 5.21533813e+01],\n",
       "        [1.04757812e+02, 4.57578125e+01, 4.97578125e+01],\n",
       "        [1.05531250e+02, 4.65312500e+01, 5.05312500e+01],\n",
       "        [1.03101562e+02, 4.71015625e+01, 5.01015625e+01],\n",
       "        [1.02640320e+02, 4.75046997e+01, 4.89318848e+01],\n",
       "        [1.07484375e+02, 4.82421875e+01, 5.02421875e+01],\n",
       "        [1.10328125e+02, 5.03281250e+01, 4.94140625e+01],\n",
       "        [1.12940063e+02, 4.86562500e+01, 4.87981567e+01],\n",
       "        [1.21484375e+02, 5.34843750e+01, 5.04843750e+01],\n",
       "        [1.22687500e+02, 5.46875000e+01, 5.16875000e+01],\n",
       "        [1.24000000e+02, 5.70000000e+01, 5.10000000e+01],\n",
       "        [1.21097473e+02, 5.40974731e+01, 4.80974731e+01],\n",
       "        [1.18703125e+02, 5.37031250e+01, 4.97031250e+01],\n",
       "        [1.18270325e+02, 5.32703247e+01, 4.92703247e+01],\n",
       "        [1.19000000e+02, 5.50000000e+01, 5.30000000e+01],\n",
       "        [1.13554688e+02, 5.25546875e+01, 4.95546875e+01],\n",
       "        [1.12721741e+02, 5.27217407e+01, 5.23545532e+01],\n",
       "        [1.03304688e+02, 4.73046875e+01, 4.83046875e+01],\n",
       "        [9.62301025e+01, 4.42301025e+01, 4.82301025e+01],\n",
       "        [9.30000000e+01, 4.36484375e+01, 4.66484375e+01],\n",
       "        [8.64067993e+01, 4.14067993e+01, 4.68911743e+01],\n",
       "        [8.67578125e+01, 4.02421875e+01, 4.64843750e+01],\n",
       "        [8.61875000e+01, 3.96718750e+01, 4.59140625e+01],\n",
       "        [8.55280151e+01, 4.10123901e+01, 4.84967651e+01],\n",
       "        [8.25078125e+01, 3.79921875e+01, 4.54765625e+01],\n",
       "        [7.40000000e+01, 3.70000000e+01, 4.50000000e+01],\n",
       "        [7.13211060e+01, 3.50242310e+01, 4.26726685e+01],\n",
       "        [6.91427612e+01, 3.61427612e+01, 4.71427612e+01],\n",
       "        [7.40000000e+01, 4.26953125e+01, 5.16093750e+01],\n",
       "        [8.27626343e+01, 5.37626343e+01, 5.77626343e+01],\n",
       "        [8.69514771e+01, 6.09514771e+01, 6.39514771e+01],\n",
       "        [8.55781250e+01, 5.95781250e+01, 6.25781250e+01],\n",
       "        [8.74677124e+01, 6.14677124e+01, 6.44677124e+01],\n",
       "        [8.65258179e+01, 5.55258179e+01, 6.05258179e+01],\n",
       "        [8.47540894e+01, 5.19337769e+01, 5.52072144e+01],\n",
       "        [8.07863159e+01, 5.07863159e+01, 5.87863159e+01],\n",
       "        [7.40482788e+01, 5.49779663e+01, 6.13295288e+01],\n",
       "        [4.38826904e+01, 4.06248779e+01, 5.71092529e+01],\n",
       "        [1.87578125e+01, 3.14140625e+01, 5.10000000e+01],\n",
       "        [2.60675049e+00, 3.04348755e+01, 5.25208130e+01],\n",
       "        [0.00000000e+00, 2.55156250e+01, 4.85156250e+01],\n",
       "        [1.04064941e-01, 2.73462524e+01, 5.23231201e+01],\n",
       "        [5.63513184e+00, 3.12421875e+01, 5.39476318e+01],\n",
       "        [1.73203125e+01, 3.83203125e+01, 5.73203125e+01],\n",
       "        [3.46484375e+01, 5.16484375e+01, 6.76484375e+01],\n",
       "        [4.82343750e+01, 6.02343750e+01, 7.22343750e+01],\n",
       "        [6.89489136e+01, 7.87379761e+01, 8.13707886e+01],\n",
       "        [8.70881958e+01, 9.50881958e+01, 9.70881958e+01],\n",
       "        [1.01132812e+02, 1.03132812e+02, 1.00132812e+02],\n",
       "        [1.03952698e+02, 1.04952698e+02, 9.99526978e+01],\n",
       "        [1.04000000e+02, 1.05000000e+02, 1.00000000e+02],\n",
       "        [1.04112488e+02, 1.05112488e+02, 1.00112488e+02],\n",
       "        [1.00727661e+02, 1.01727661e+02, 9.67276611e+01],\n",
       "        [9.97578125e+01, 1.00757812e+02, 9.57578125e+01],\n",
       "        [9.66732178e+01, 9.76732178e+01, 9.26732178e+01]]], dtype=float32)"
      ]
     },
     "execution_count": 25,
     "metadata": {},
     "output_type": "execute_result"
    }
   ],
   "source": [
    "img, label = process_image('./images/cat/7 Foods Your Cat Can_t Eat.jpg')\n",
    "img.numpy()[:2]"
   ]
  },
  {
   "cell_type": "code",
   "execution_count": 26,
   "id": "464c12ac",
   "metadata": {},
   "outputs": [],
   "source": [
    "def scale(image, label):\n",
    "    return image/255, label"
   ]
  },
  {
   "cell_type": "code",
   "execution_count": 28,
   "id": "9b844849",
   "metadata": {},
   "outputs": [
    {
     "ename": "TypeError",
     "evalue": "in user code:\n\n\n    TypeError: outer_factory.<locals>.inner_factory.<locals>.tf__scale() missing 1 required positional argument: 'label'\n",
     "output_type": "error",
     "traceback": [
      "\u001b[0;31m---------------------------------------------------------------------------\u001b[0m",
      "\u001b[0;31mTypeError\u001b[0m                                 Traceback (most recent call last)",
      "Cell \u001b[0;32mIn[28], line 1\u001b[0m\n\u001b[0;32m----> 1\u001b[0m train_ds \u001b[38;5;241m=\u001b[39m \u001b[43mtrain_ds\u001b[49m\u001b[38;5;241;43m.\u001b[39;49m\u001b[43mmap\u001b[49m\u001b[43m(\u001b[49m\u001b[43mscale\u001b[49m\u001b[43m)\u001b[49m\n",
      "File \u001b[0;32m~/Desktop/Data-Science/venv/lib/python3.11/site-packages/tensorflow/python/data/ops/dataset_ops.py:2278\u001b[0m, in \u001b[0;36mDatasetV2.map\u001b[0;34m(self, map_func, num_parallel_calls, deterministic, name)\u001b[0m\n\u001b[1;32m   2274\u001b[0m \u001b[38;5;66;03m# Loaded lazily due to a circular dependency (dataset_ops -> map_op ->\u001b[39;00m\n\u001b[1;32m   2275\u001b[0m \u001b[38;5;66;03m# dataset_ops).\u001b[39;00m\n\u001b[1;32m   2276\u001b[0m \u001b[38;5;66;03m# pylint: disable=g-import-not-at-top,protected-access\u001b[39;00m\n\u001b[1;32m   2277\u001b[0m \u001b[38;5;28;01mfrom\u001b[39;00m \u001b[38;5;21;01mtensorflow\u001b[39;00m\u001b[38;5;21;01m.\u001b[39;00m\u001b[38;5;21;01mpython\u001b[39;00m\u001b[38;5;21;01m.\u001b[39;00m\u001b[38;5;21;01mdata\u001b[39;00m\u001b[38;5;21;01m.\u001b[39;00m\u001b[38;5;21;01mops\u001b[39;00m \u001b[38;5;28;01mimport\u001b[39;00m map_op\n\u001b[0;32m-> 2278\u001b[0m \u001b[38;5;28;01mreturn\u001b[39;00m \u001b[43mmap_op\u001b[49m\u001b[38;5;241;43m.\u001b[39;49m\u001b[43m_map_v2\u001b[49m\u001b[43m(\u001b[49m\n\u001b[1;32m   2279\u001b[0m \u001b[43m    \u001b[49m\u001b[38;5;28;43mself\u001b[39;49m\u001b[43m,\u001b[49m\n\u001b[1;32m   2280\u001b[0m \u001b[43m    \u001b[49m\u001b[43mmap_func\u001b[49m\u001b[43m,\u001b[49m\n\u001b[1;32m   2281\u001b[0m \u001b[43m    \u001b[49m\u001b[43mnum_parallel_calls\u001b[49m\u001b[38;5;241;43m=\u001b[39;49m\u001b[43mnum_parallel_calls\u001b[49m\u001b[43m,\u001b[49m\n\u001b[1;32m   2282\u001b[0m \u001b[43m    \u001b[49m\u001b[43mdeterministic\u001b[49m\u001b[38;5;241;43m=\u001b[39;49m\u001b[43mdeterministic\u001b[49m\u001b[43m,\u001b[49m\n\u001b[1;32m   2283\u001b[0m \u001b[43m    \u001b[49m\u001b[43mname\u001b[49m\u001b[38;5;241;43m=\u001b[39;49m\u001b[43mname\u001b[49m\u001b[43m)\u001b[49m\n",
      "File \u001b[0;32m~/Desktop/Data-Science/venv/lib/python3.11/site-packages/tensorflow/python/data/ops/map_op.py:37\u001b[0m, in \u001b[0;36m_map_v2\u001b[0;34m(input_dataset, map_func, num_parallel_calls, deterministic, name)\u001b[0m\n\u001b[1;32m     34\u001b[0m   \u001b[38;5;28;01mif\u001b[39;00m deterministic \u001b[38;5;129;01mis\u001b[39;00m \u001b[38;5;129;01mnot\u001b[39;00m \u001b[38;5;28;01mNone\u001b[39;00m \u001b[38;5;129;01mand\u001b[39;00m \u001b[38;5;129;01mnot\u001b[39;00m debug_mode\u001b[38;5;241m.\u001b[39mDEBUG_MODE:\n\u001b[1;32m     35\u001b[0m     warnings\u001b[38;5;241m.\u001b[39mwarn(\u001b[38;5;124m\"\u001b[39m\u001b[38;5;124mThe `deterministic` argument has no effect unless the \u001b[39m\u001b[38;5;124m\"\u001b[39m\n\u001b[1;32m     36\u001b[0m                   \u001b[38;5;124m\"\u001b[39m\u001b[38;5;124m`num_parallel_calls` argument is specified.\u001b[39m\u001b[38;5;124m\"\u001b[39m)\n\u001b[0;32m---> 37\u001b[0m   \u001b[38;5;28;01mreturn\u001b[39;00m \u001b[43m_MapDataset\u001b[49m\u001b[43m(\u001b[49m\n\u001b[1;32m     38\u001b[0m \u001b[43m      \u001b[49m\u001b[43minput_dataset\u001b[49m\u001b[43m,\u001b[49m\u001b[43m \u001b[49m\u001b[43mmap_func\u001b[49m\u001b[43m,\u001b[49m\u001b[43m \u001b[49m\u001b[43mpreserve_cardinality\u001b[49m\u001b[38;5;241;43m=\u001b[39;49m\u001b[38;5;28;43;01mTrue\u001b[39;49;00m\u001b[43m,\u001b[49m\u001b[43m \u001b[49m\u001b[43mname\u001b[49m\u001b[38;5;241;43m=\u001b[39;49m\u001b[43mname\u001b[49m\u001b[43m)\u001b[49m\n\u001b[1;32m     39\u001b[0m \u001b[38;5;28;01melse\u001b[39;00m:\n\u001b[1;32m     40\u001b[0m   \u001b[38;5;28;01mreturn\u001b[39;00m _ParallelMapDataset(\n\u001b[1;32m     41\u001b[0m       input_dataset,\n\u001b[1;32m     42\u001b[0m       map_func,\n\u001b[0;32m   (...)\u001b[0m\n\u001b[1;32m     45\u001b[0m       preserve_cardinality\u001b[38;5;241m=\u001b[39m\u001b[38;5;28;01mTrue\u001b[39;00m,\n\u001b[1;32m     46\u001b[0m       name\u001b[38;5;241m=\u001b[39mname)\n",
      "File \u001b[0;32m~/Desktop/Data-Science/venv/lib/python3.11/site-packages/tensorflow/python/data/ops/map_op.py:107\u001b[0m, in \u001b[0;36m_MapDataset.__init__\u001b[0;34m(self, input_dataset, map_func, use_inter_op_parallelism, preserve_cardinality, use_legacy_function, name)\u001b[0m\n\u001b[1;32m    105\u001b[0m \u001b[38;5;28mself\u001b[39m\u001b[38;5;241m.\u001b[39m_use_inter_op_parallelism \u001b[38;5;241m=\u001b[39m use_inter_op_parallelism\n\u001b[1;32m    106\u001b[0m \u001b[38;5;28mself\u001b[39m\u001b[38;5;241m.\u001b[39m_preserve_cardinality \u001b[38;5;241m=\u001b[39m preserve_cardinality\n\u001b[0;32m--> 107\u001b[0m \u001b[38;5;28mself\u001b[39m\u001b[38;5;241m.\u001b[39m_map_func \u001b[38;5;241m=\u001b[39m \u001b[43mstructured_function\u001b[49m\u001b[38;5;241;43m.\u001b[39;49m\u001b[43mStructuredFunctionWrapper\u001b[49m\u001b[43m(\u001b[49m\n\u001b[1;32m    108\u001b[0m \u001b[43m    \u001b[49m\u001b[43mmap_func\u001b[49m\u001b[43m,\u001b[49m\n\u001b[1;32m    109\u001b[0m \u001b[43m    \u001b[49m\u001b[38;5;28;43mself\u001b[39;49m\u001b[38;5;241;43m.\u001b[39;49m\u001b[43m_transformation_name\u001b[49m\u001b[43m(\u001b[49m\u001b[43m)\u001b[49m\u001b[43m,\u001b[49m\n\u001b[1;32m    110\u001b[0m \u001b[43m    \u001b[49m\u001b[43mdataset\u001b[49m\u001b[38;5;241;43m=\u001b[39;49m\u001b[43minput_dataset\u001b[49m\u001b[43m,\u001b[49m\n\u001b[1;32m    111\u001b[0m \u001b[43m    \u001b[49m\u001b[43muse_legacy_function\u001b[49m\u001b[38;5;241;43m=\u001b[39;49m\u001b[43muse_legacy_function\u001b[49m\u001b[43m)\u001b[49m\n\u001b[1;32m    112\u001b[0m \u001b[38;5;28mself\u001b[39m\u001b[38;5;241m.\u001b[39m_name \u001b[38;5;241m=\u001b[39m name\n\u001b[1;32m    113\u001b[0m variant_tensor \u001b[38;5;241m=\u001b[39m gen_dataset_ops\u001b[38;5;241m.\u001b[39mmap_dataset(\n\u001b[1;32m    114\u001b[0m     input_dataset\u001b[38;5;241m.\u001b[39m_variant_tensor,  \u001b[38;5;66;03m# pylint: disable=protected-access\u001b[39;00m\n\u001b[1;32m    115\u001b[0m     \u001b[38;5;28mself\u001b[39m\u001b[38;5;241m.\u001b[39m_map_func\u001b[38;5;241m.\u001b[39mfunction\u001b[38;5;241m.\u001b[39mcaptured_inputs,\n\u001b[0;32m   (...)\u001b[0m\n\u001b[1;32m    118\u001b[0m     preserve_cardinality\u001b[38;5;241m=\u001b[39m\u001b[38;5;28mself\u001b[39m\u001b[38;5;241m.\u001b[39m_preserve_cardinality,\n\u001b[1;32m    119\u001b[0m     \u001b[38;5;241m*\u001b[39m\u001b[38;5;241m*\u001b[39m\u001b[38;5;28mself\u001b[39m\u001b[38;5;241m.\u001b[39m_common_args)\n",
      "File \u001b[0;32m~/Desktop/Data-Science/venv/lib/python3.11/site-packages/tensorflow/python/data/ops/structured_function.py:272\u001b[0m, in \u001b[0;36mStructuredFunctionWrapper.__init__\u001b[0;34m(self, func, transformation_name, dataset, input_classes, input_shapes, input_types, input_structure, add_to_graph, use_legacy_function, defun_kwargs)\u001b[0m\n\u001b[1;32m    265\u001b[0m       warnings\u001b[38;5;241m.\u001b[39mwarn(\n\u001b[1;32m    266\u001b[0m           \u001b[38;5;124m\"\u001b[39m\u001b[38;5;124mEven though the `tf.config.experimental_run_functions_eagerly` \u001b[39m\u001b[38;5;124m\"\u001b[39m\n\u001b[1;32m    267\u001b[0m           \u001b[38;5;124m\"\u001b[39m\u001b[38;5;124moption is set, this option does not apply to tf.data functions. \u001b[39m\u001b[38;5;124m\"\u001b[39m\n\u001b[1;32m    268\u001b[0m           \u001b[38;5;124m\"\u001b[39m\u001b[38;5;124mTo force eager execution of tf.data functions, please use \u001b[39m\u001b[38;5;124m\"\u001b[39m\n\u001b[1;32m    269\u001b[0m           \u001b[38;5;124m\"\u001b[39m\u001b[38;5;124m`tf.data.experimental.enable_debug_mode()`.\u001b[39m\u001b[38;5;124m\"\u001b[39m)\n\u001b[1;32m    270\u001b[0m     fn_factory \u001b[38;5;241m=\u001b[39m trace_tf_function(defun_kwargs)\n\u001b[0;32m--> 272\u001b[0m \u001b[38;5;28mself\u001b[39m\u001b[38;5;241m.\u001b[39m_function \u001b[38;5;241m=\u001b[39m \u001b[43mfn_factory\u001b[49m\u001b[43m(\u001b[49m\u001b[43m)\u001b[49m\n\u001b[1;32m    273\u001b[0m \u001b[38;5;66;03m# There is no graph to add in eager mode.\u001b[39;00m\n\u001b[1;32m    274\u001b[0m add_to_graph \u001b[38;5;241m&\u001b[39m\u001b[38;5;241m=\u001b[39m \u001b[38;5;129;01mnot\u001b[39;00m context\u001b[38;5;241m.\u001b[39mexecuting_eagerly()\n",
      "File \u001b[0;32m~/Desktop/Data-Science/venv/lib/python3.11/site-packages/tensorflow/python/eager/polymorphic_function/polymorphic_function.py:1189\u001b[0m, in \u001b[0;36mFunction.get_concrete_function\u001b[0;34m(self, *args, **kwargs)\u001b[0m\n\u001b[1;32m   1187\u001b[0m \u001b[38;5;28;01mdef\u001b[39;00m \u001b[38;5;21mget_concrete_function\u001b[39m(\u001b[38;5;28mself\u001b[39m, \u001b[38;5;241m*\u001b[39margs, \u001b[38;5;241m*\u001b[39m\u001b[38;5;241m*\u001b[39mkwargs):\n\u001b[1;32m   1188\u001b[0m   \u001b[38;5;66;03m# Implements GenericFunction.get_concrete_function.\u001b[39;00m\n\u001b[0;32m-> 1189\u001b[0m   concrete \u001b[38;5;241m=\u001b[39m \u001b[38;5;28;43mself\u001b[39;49m\u001b[38;5;241;43m.\u001b[39;49m\u001b[43m_get_concrete_function_garbage_collected\u001b[49m\u001b[43m(\u001b[49m\u001b[38;5;241;43m*\u001b[39;49m\u001b[43margs\u001b[49m\u001b[43m,\u001b[49m\u001b[43m \u001b[49m\u001b[38;5;241;43m*\u001b[39;49m\u001b[38;5;241;43m*\u001b[39;49m\u001b[43mkwargs\u001b[49m\u001b[43m)\u001b[49m\n\u001b[1;32m   1190\u001b[0m   concrete\u001b[38;5;241m.\u001b[39m_garbage_collector\u001b[38;5;241m.\u001b[39mrelease()  \u001b[38;5;66;03m# pylint: disable=protected-access\u001b[39;00m\n\u001b[1;32m   1191\u001b[0m   \u001b[38;5;28;01mreturn\u001b[39;00m concrete\n",
      "File \u001b[0;32m~/Desktop/Data-Science/venv/lib/python3.11/site-packages/tensorflow/python/eager/polymorphic_function/polymorphic_function.py:1169\u001b[0m, in \u001b[0;36mFunction._get_concrete_function_garbage_collected\u001b[0;34m(self, *args, **kwargs)\u001b[0m\n\u001b[1;32m   1167\u001b[0m   \u001b[38;5;28;01mif\u001b[39;00m \u001b[38;5;28mself\u001b[39m\u001b[38;5;241m.\u001b[39m_variable_creation_fn \u001b[38;5;129;01mis\u001b[39;00m \u001b[38;5;28;01mNone\u001b[39;00m:\n\u001b[1;32m   1168\u001b[0m     initializers \u001b[38;5;241m=\u001b[39m []\n\u001b[0;32m-> 1169\u001b[0m     \u001b[38;5;28;43mself\u001b[39;49m\u001b[38;5;241;43m.\u001b[39;49m\u001b[43m_initialize\u001b[49m\u001b[43m(\u001b[49m\u001b[43margs\u001b[49m\u001b[43m,\u001b[49m\u001b[43m \u001b[49m\u001b[43mkwargs\u001b[49m\u001b[43m,\u001b[49m\u001b[43m \u001b[49m\u001b[43madd_initializers_to\u001b[49m\u001b[38;5;241;43m=\u001b[39;49m\u001b[43minitializers\u001b[49m\u001b[43m)\u001b[49m\n\u001b[1;32m   1170\u001b[0m     \u001b[38;5;28mself\u001b[39m\u001b[38;5;241m.\u001b[39m_initialize_uninitialized_variables(initializers)\n\u001b[1;32m   1172\u001b[0m \u001b[38;5;28;01mif\u001b[39;00m \u001b[38;5;28mself\u001b[39m\u001b[38;5;241m.\u001b[39m_created_variables:\n\u001b[1;32m   1173\u001b[0m   \u001b[38;5;66;03m# In this case we have created variables on the first call, so we run the\u001b[39;00m\n\u001b[1;32m   1174\u001b[0m   \u001b[38;5;66;03m# version which is guaranteed to never create variables.\u001b[39;00m\n",
      "File \u001b[0;32m~/Desktop/Data-Science/venv/lib/python3.11/site-packages/tensorflow/python/eager/polymorphic_function/polymorphic_function.py:694\u001b[0m, in \u001b[0;36mFunction._initialize\u001b[0;34m(self, args, kwds, add_initializers_to)\u001b[0m\n\u001b[1;32m    691\u001b[0m \u001b[38;5;28mself\u001b[39m\u001b[38;5;241m.\u001b[39m_variable_creation_fn\u001b[38;5;241m.\u001b[39m_name \u001b[38;5;241m=\u001b[39m \u001b[38;5;28mself\u001b[39m\u001b[38;5;241m.\u001b[39m_name  \u001b[38;5;66;03m# pylint: disable=protected-access\u001b[39;00m\n\u001b[1;32m    692\u001b[0m \u001b[38;5;66;03m# Force the definition of the function for these arguments\u001b[39;00m\n\u001b[1;32m    693\u001b[0m \u001b[38;5;28mself\u001b[39m\u001b[38;5;241m.\u001b[39m_concrete_variable_creation_fn \u001b[38;5;241m=\u001b[39m (\n\u001b[0;32m--> 694\u001b[0m     \u001b[38;5;28;43mself\u001b[39;49m\u001b[38;5;241;43m.\u001b[39;49m\u001b[43m_variable_creation_fn\u001b[49m\u001b[43m    \u001b[49m\u001b[38;5;66;43;03m# pylint: disable=protected-access\u001b[39;49;00m\n\u001b[1;32m    695\u001b[0m \u001b[43m    \u001b[49m\u001b[38;5;241;43m.\u001b[39;49m\u001b[43m_get_concrete_function_internal_garbage_collected\u001b[49m\u001b[43m(\u001b[49m\n\u001b[1;32m    696\u001b[0m \u001b[43m        \u001b[49m\u001b[38;5;241;43m*\u001b[39;49m\u001b[43margs\u001b[49m\u001b[43m,\u001b[49m\u001b[43m \u001b[49m\u001b[38;5;241;43m*\u001b[39;49m\u001b[38;5;241;43m*\u001b[39;49m\u001b[43mkwds\u001b[49m\u001b[43m)\u001b[49m)\n\u001b[1;32m    698\u001b[0m \u001b[38;5;28;01mdef\u001b[39;00m \u001b[38;5;21minvalid_creator_scope\u001b[39m(\u001b[38;5;241m*\u001b[39munused_args, \u001b[38;5;241m*\u001b[39m\u001b[38;5;241m*\u001b[39munused_kwds):\n\u001b[1;32m    699\u001b[0m \u001b[38;5;250m  \u001b[39m\u001b[38;5;124;03m\"\"\"Disables variable creation.\"\"\"\u001b[39;00m\n",
      "File \u001b[0;32m~/Desktop/Data-Science/venv/lib/python3.11/site-packages/tensorflow/python/eager/polymorphic_function/tracing_compiler.py:176\u001b[0m, in \u001b[0;36mTracingCompiler._get_concrete_function_internal_garbage_collected\u001b[0;34m(self, *args, **kwargs)\u001b[0m\n\u001b[1;32m    174\u001b[0m \u001b[38;5;250m\u001b[39m\u001b[38;5;124;03m\"\"\"Returns a concrete function which cleans up its graph function.\"\"\"\u001b[39;00m\n\u001b[1;32m    175\u001b[0m \u001b[38;5;28;01mwith\u001b[39;00m \u001b[38;5;28mself\u001b[39m\u001b[38;5;241m.\u001b[39m_lock:\n\u001b[0;32m--> 176\u001b[0m   concrete_function, _ \u001b[38;5;241m=\u001b[39m \u001b[38;5;28;43mself\u001b[39;49m\u001b[38;5;241;43m.\u001b[39;49m\u001b[43m_maybe_define_concrete_function\u001b[49m\u001b[43m(\u001b[49m\u001b[43margs\u001b[49m\u001b[43m,\u001b[49m\u001b[43m \u001b[49m\u001b[43mkwargs\u001b[49m\u001b[43m)\u001b[49m\n\u001b[1;32m    177\u001b[0m \u001b[38;5;28;01mreturn\u001b[39;00m concrete_function\n",
      "File \u001b[0;32m~/Desktop/Data-Science/venv/lib/python3.11/site-packages/tensorflow/python/eager/polymorphic_function/tracing_compiler.py:171\u001b[0m, in \u001b[0;36mTracingCompiler._maybe_define_concrete_function\u001b[0;34m(self, args, kwargs)\u001b[0m\n\u001b[1;32m    168\u001b[0m   args \u001b[38;5;241m=\u001b[39m \u001b[38;5;28mself\u001b[39m\u001b[38;5;241m.\u001b[39minput_signature\n\u001b[1;32m    169\u001b[0m   kwargs \u001b[38;5;241m=\u001b[39m {}\n\u001b[0;32m--> 171\u001b[0m \u001b[38;5;28;01mreturn\u001b[39;00m \u001b[38;5;28;43mself\u001b[39;49m\u001b[38;5;241;43m.\u001b[39;49m\u001b[43m_maybe_define_function\u001b[49m\u001b[43m(\u001b[49m\u001b[43margs\u001b[49m\u001b[43m,\u001b[49m\u001b[43m \u001b[49m\u001b[43mkwargs\u001b[49m\u001b[43m)\u001b[49m\n",
      "File \u001b[0;32m~/Desktop/Data-Science/venv/lib/python3.11/site-packages/tensorflow/python/eager/polymorphic_function/tracing_compiler.py:398\u001b[0m, in \u001b[0;36mTracingCompiler._maybe_define_function\u001b[0;34m(self, args, kwargs)\u001b[0m\n\u001b[1;32m    395\u001b[0m args \u001b[38;5;241m=\u001b[39m placeholder_bound_args\u001b[38;5;241m.\u001b[39margs\n\u001b[1;32m    396\u001b[0m kwargs \u001b[38;5;241m=\u001b[39m placeholder_bound_args\u001b[38;5;241m.\u001b[39mkwargs\n\u001b[0;32m--> 398\u001b[0m concrete_function \u001b[38;5;241m=\u001b[39m \u001b[38;5;28;43mself\u001b[39;49m\u001b[38;5;241;43m.\u001b[39;49m\u001b[43m_create_concrete_function\u001b[49m\u001b[43m(\u001b[49m\n\u001b[1;32m    399\u001b[0m \u001b[43m    \u001b[49m\u001b[43margs\u001b[49m\u001b[43m,\u001b[49m\u001b[43m \u001b[49m\u001b[43mkwargs\u001b[49m\u001b[43m,\u001b[49m\u001b[43m \u001b[49m\u001b[43mfunc_graph\u001b[49m\u001b[43m)\u001b[49m\n\u001b[1;32m    401\u001b[0m \u001b[38;5;66;03m# TODO(b/263520817): Remove access to private attribute.\u001b[39;00m\n\u001b[1;32m    402\u001b[0m graph_capture_container \u001b[38;5;241m=\u001b[39m concrete_function\u001b[38;5;241m.\u001b[39mgraph\u001b[38;5;241m.\u001b[39mfunction_captures\n",
      "File \u001b[0;32m~/Desktop/Data-Science/venv/lib/python3.11/site-packages/tensorflow/python/eager/polymorphic_function/tracing_compiler.py:305\u001b[0m, in \u001b[0;36mTracingCompiler._create_concrete_function\u001b[0;34m(self, args, kwargs, func_graph)\u001b[0m\n\u001b[1;32m    301\u001b[0m \u001b[38;5;28;01melse\u001b[39;00m:\n\u001b[1;32m    302\u001b[0m   arg_names \u001b[38;5;241m=\u001b[39m base_arg_names\n\u001b[1;32m    304\u001b[0m concrete_function \u001b[38;5;241m=\u001b[39m monomorphic_function\u001b[38;5;241m.\u001b[39mConcreteFunction(\n\u001b[0;32m--> 305\u001b[0m     \u001b[43mfunc_graph_module\u001b[49m\u001b[38;5;241;43m.\u001b[39;49m\u001b[43mfunc_graph_from_py_func\u001b[49m\u001b[43m(\u001b[49m\n\u001b[1;32m    306\u001b[0m \u001b[43m        \u001b[49m\u001b[38;5;28;43mself\u001b[39;49m\u001b[38;5;241;43m.\u001b[39;49m\u001b[43m_name\u001b[49m\u001b[43m,\u001b[49m\n\u001b[1;32m    307\u001b[0m \u001b[43m        \u001b[49m\u001b[38;5;28;43mself\u001b[39;49m\u001b[38;5;241;43m.\u001b[39;49m\u001b[43m_python_function\u001b[49m\u001b[43m,\u001b[49m\n\u001b[1;32m    308\u001b[0m \u001b[43m        \u001b[49m\u001b[43margs\u001b[49m\u001b[43m,\u001b[49m\n\u001b[1;32m    309\u001b[0m \u001b[43m        \u001b[49m\u001b[43mkwargs\u001b[49m\u001b[43m,\u001b[49m\n\u001b[1;32m    310\u001b[0m \u001b[43m        \u001b[49m\u001b[38;5;28;43;01mNone\u001b[39;49;00m\u001b[43m,\u001b[49m\n\u001b[1;32m    311\u001b[0m \u001b[43m        \u001b[49m\u001b[43mfunc_graph\u001b[49m\u001b[38;5;241;43m=\u001b[39;49m\u001b[43mfunc_graph\u001b[49m\u001b[43m,\u001b[49m\n\u001b[1;32m    312\u001b[0m \u001b[43m        \u001b[49m\u001b[43marg_names\u001b[49m\u001b[38;5;241;43m=\u001b[39;49m\u001b[43marg_names\u001b[49m\u001b[43m,\u001b[49m\n\u001b[1;32m    313\u001b[0m \u001b[43m        \u001b[49m\u001b[43mcapture_by_value\u001b[49m\u001b[38;5;241;43m=\u001b[39;49m\u001b[38;5;28;43mself\u001b[39;49m\u001b[38;5;241;43m.\u001b[39;49m\u001b[43m_capture_by_value\u001b[49m\u001b[43m,\u001b[49m\n\u001b[1;32m    314\u001b[0m \u001b[43m        \u001b[49m\u001b[43mcreate_placeholders\u001b[49m\u001b[38;5;241;43m=\u001b[39;49m\u001b[38;5;28;43;01mFalse\u001b[39;49;00m\u001b[43m)\u001b[49m,\n\u001b[1;32m    315\u001b[0m     \u001b[38;5;28mself\u001b[39m\u001b[38;5;241m.\u001b[39m_function_attributes,\n\u001b[1;32m    316\u001b[0m     spec\u001b[38;5;241m=\u001b[39m\u001b[38;5;28mself\u001b[39m\u001b[38;5;241m.\u001b[39mfunction_spec,\n\u001b[1;32m    317\u001b[0m     \u001b[38;5;66;03m# Tell the ConcreteFunction to clean up its graph once it goes out of\u001b[39;00m\n\u001b[1;32m    318\u001b[0m     \u001b[38;5;66;03m# scope. This is not the default behavior since it gets used in some\u001b[39;00m\n\u001b[1;32m    319\u001b[0m     \u001b[38;5;66;03m# places (like Keras) where the FuncGraph lives longer than the\u001b[39;00m\n\u001b[1;32m    320\u001b[0m     \u001b[38;5;66;03m# ConcreteFunction.\u001b[39;00m\n\u001b[1;32m    321\u001b[0m     shared_func_graph\u001b[38;5;241m=\u001b[39m\u001b[38;5;28;01mFalse\u001b[39;00m)\n\u001b[1;32m    322\u001b[0m \u001b[38;5;28;01mreturn\u001b[39;00m concrete_function\n",
      "File \u001b[0;32m~/Desktop/Data-Science/venv/lib/python3.11/site-packages/tensorflow/python/framework/func_graph.py:1055\u001b[0m, in \u001b[0;36mfunc_graph_from_py_func\u001b[0;34m(name, python_func, args, kwargs, signature, func_graph, add_control_dependencies, arg_names, op_return_value, collections, capture_by_value, create_placeholders)\u001b[0m\n\u001b[1;32m   1052\u001b[0m   \u001b[38;5;28;01mreturn\u001b[39;00m x\n\u001b[1;32m   1054\u001b[0m _, original_func \u001b[38;5;241m=\u001b[39m tf_decorator\u001b[38;5;241m.\u001b[39munwrap(python_func)\n\u001b[0;32m-> 1055\u001b[0m func_outputs \u001b[38;5;241m=\u001b[39m \u001b[43mpython_func\u001b[49m\u001b[43m(\u001b[49m\u001b[38;5;241;43m*\u001b[39;49m\u001b[43mfunc_args\u001b[49m\u001b[43m,\u001b[49m\u001b[43m \u001b[49m\u001b[38;5;241;43m*\u001b[39;49m\u001b[38;5;241;43m*\u001b[39;49m\u001b[43mfunc_kwargs\u001b[49m\u001b[43m)\u001b[49m\n\u001b[1;32m   1057\u001b[0m \u001b[38;5;66;03m# invariant: `func_outputs` contains only Tensors, CompositeTensors,\u001b[39;00m\n\u001b[1;32m   1058\u001b[0m \u001b[38;5;66;03m# TensorArrays and `None`s.\u001b[39;00m\n\u001b[1;32m   1059\u001b[0m func_outputs \u001b[38;5;241m=\u001b[39m variable_utils\u001b[38;5;241m.\u001b[39mconvert_variables_to_tensors(func_outputs)\n",
      "File \u001b[0;32m~/Desktop/Data-Science/venv/lib/python3.11/site-packages/tensorflow/python/eager/polymorphic_function/polymorphic_function.py:597\u001b[0m, in \u001b[0;36mFunction._compiler_with_scope.<locals>.wrapped_fn\u001b[0;34m(*args, **kwds)\u001b[0m\n\u001b[1;32m    593\u001b[0m \u001b[38;5;28;01mwith\u001b[39;00m default_graph\u001b[38;5;241m.\u001b[39m_variable_creator_scope(scope, priority\u001b[38;5;241m=\u001b[39m\u001b[38;5;241m50\u001b[39m):  \u001b[38;5;66;03m# pylint: disable=protected-access\u001b[39;00m\n\u001b[1;32m    594\u001b[0m   \u001b[38;5;66;03m# __wrapped__ allows AutoGraph to swap in a converted function. We give\u001b[39;00m\n\u001b[1;32m    595\u001b[0m   \u001b[38;5;66;03m# the function a weak reference to itself to avoid a reference cycle.\u001b[39;00m\n\u001b[1;32m    596\u001b[0m   \u001b[38;5;28;01mwith\u001b[39;00m OptionalXlaContext(compile_with_xla):\n\u001b[0;32m--> 597\u001b[0m     out \u001b[38;5;241m=\u001b[39m \u001b[43mweak_wrapped_fn\u001b[49m\u001b[43m(\u001b[49m\u001b[43m)\u001b[49m\u001b[38;5;241;43m.\u001b[39;49m\u001b[43m__wrapped__\u001b[49m\u001b[43m(\u001b[49m\u001b[38;5;241;43m*\u001b[39;49m\u001b[43margs\u001b[49m\u001b[43m,\u001b[49m\u001b[43m \u001b[49m\u001b[38;5;241;43m*\u001b[39;49m\u001b[38;5;241;43m*\u001b[39;49m\u001b[43mkwds\u001b[49m\u001b[43m)\u001b[49m\n\u001b[1;32m    598\u001b[0m   \u001b[38;5;28;01mreturn\u001b[39;00m out\n",
      "File \u001b[0;32m~/Desktop/Data-Science/venv/lib/python3.11/site-packages/tensorflow/python/data/ops/structured_function.py:238\u001b[0m, in \u001b[0;36mStructuredFunctionWrapper.__init__.<locals>.trace_tf_function.<locals>.wrapped_fn\u001b[0;34m(*args)\u001b[0m\n\u001b[1;32m    237\u001b[0m \u001b[38;5;28;01mdef\u001b[39;00m \u001b[38;5;21mwrapped_fn\u001b[39m(\u001b[38;5;241m*\u001b[39margs):  \u001b[38;5;66;03m# pylint: disable=missing-docstring\u001b[39;00m\n\u001b[0;32m--> 238\u001b[0m   ret \u001b[38;5;241m=\u001b[39m \u001b[43mwrapper_helper\u001b[49m\u001b[43m(\u001b[49m\u001b[38;5;241;43m*\u001b[39;49m\u001b[43margs\u001b[49m\u001b[43m)\u001b[49m\n\u001b[1;32m    239\u001b[0m   ret \u001b[38;5;241m=\u001b[39m structure\u001b[38;5;241m.\u001b[39mto_tensor_list(\u001b[38;5;28mself\u001b[39m\u001b[38;5;241m.\u001b[39m_output_structure, ret)\n\u001b[1;32m    240\u001b[0m   \u001b[38;5;28;01mreturn\u001b[39;00m [ops\u001b[38;5;241m.\u001b[39mconvert_to_tensor(t) \u001b[38;5;28;01mfor\u001b[39;00m t \u001b[38;5;129;01min\u001b[39;00m ret]\n",
      "File \u001b[0;32m~/Desktop/Data-Science/venv/lib/python3.11/site-packages/tensorflow/python/data/ops/structured_function.py:168\u001b[0m, in \u001b[0;36mStructuredFunctionWrapper.__init__.<locals>.wrapper_helper\u001b[0;34m(*args)\u001b[0m\n\u001b[1;32m    166\u001b[0m \u001b[38;5;28;01mif\u001b[39;00m \u001b[38;5;129;01mnot\u001b[39;00m _should_unpack(nested_args):\n\u001b[1;32m    167\u001b[0m   nested_args \u001b[38;5;241m=\u001b[39m (nested_args,)\n\u001b[0;32m--> 168\u001b[0m ret \u001b[38;5;241m=\u001b[39m \u001b[43mautograph\u001b[49m\u001b[38;5;241;43m.\u001b[39;49m\u001b[43mtf_convert\u001b[49m\u001b[43m(\u001b[49m\u001b[38;5;28;43mself\u001b[39;49m\u001b[38;5;241;43m.\u001b[39;49m\u001b[43m_func\u001b[49m\u001b[43m,\u001b[49m\u001b[43m \u001b[49m\u001b[43mag_ctx\u001b[49m\u001b[43m)\u001b[49m\u001b[43m(\u001b[49m\u001b[38;5;241;43m*\u001b[39;49m\u001b[43mnested_args\u001b[49m\u001b[43m)\u001b[49m\n\u001b[1;32m    169\u001b[0m ret \u001b[38;5;241m=\u001b[39m variable_utils\u001b[38;5;241m.\u001b[39mconvert_variables_to_tensors(ret)\n\u001b[1;32m    170\u001b[0m \u001b[38;5;28;01mif\u001b[39;00m _should_pack(ret):\n",
      "File \u001b[0;32m~/Desktop/Data-Science/venv/lib/python3.11/site-packages/tensorflow/python/autograph/impl/api.py:693\u001b[0m, in \u001b[0;36mconvert.<locals>.decorator.<locals>.wrapper\u001b[0;34m(*args, **kwargs)\u001b[0m\n\u001b[1;32m    691\u001b[0m \u001b[38;5;28;01mexcept\u001b[39;00m \u001b[38;5;167;01mException\u001b[39;00m \u001b[38;5;28;01mas\u001b[39;00m e:  \u001b[38;5;66;03m# pylint:disable=broad-except\u001b[39;00m\n\u001b[1;32m    692\u001b[0m   \u001b[38;5;28;01mif\u001b[39;00m \u001b[38;5;28mhasattr\u001b[39m(e, \u001b[38;5;124m'\u001b[39m\u001b[38;5;124mag_error_metadata\u001b[39m\u001b[38;5;124m'\u001b[39m):\n\u001b[0;32m--> 693\u001b[0m     \u001b[38;5;28;01mraise\u001b[39;00m e\u001b[38;5;241m.\u001b[39mag_error_metadata\u001b[38;5;241m.\u001b[39mto_exception(e)\n\u001b[1;32m    694\u001b[0m   \u001b[38;5;28;01melse\u001b[39;00m:\n\u001b[1;32m    695\u001b[0m     \u001b[38;5;28;01mraise\u001b[39;00m\n",
      "File \u001b[0;32m~/Desktop/Data-Science/venv/lib/python3.11/site-packages/tensorflow/python/autograph/impl/api.py:690\u001b[0m, in \u001b[0;36mconvert.<locals>.decorator.<locals>.wrapper\u001b[0;34m(*args, **kwargs)\u001b[0m\n\u001b[1;32m    688\u001b[0m \u001b[38;5;28;01mtry\u001b[39;00m:\n\u001b[1;32m    689\u001b[0m   \u001b[38;5;28;01mwith\u001b[39;00m conversion_ctx:\n\u001b[0;32m--> 690\u001b[0m     \u001b[38;5;28;01mreturn\u001b[39;00m \u001b[43mconverted_call\u001b[49m\u001b[43m(\u001b[49m\u001b[43mf\u001b[49m\u001b[43m,\u001b[49m\u001b[43m \u001b[49m\u001b[43margs\u001b[49m\u001b[43m,\u001b[49m\u001b[43m \u001b[49m\u001b[43mkwargs\u001b[49m\u001b[43m,\u001b[49m\u001b[43m \u001b[49m\u001b[43moptions\u001b[49m\u001b[38;5;241;43m=\u001b[39;49m\u001b[43moptions\u001b[49m\u001b[43m)\u001b[49m\n\u001b[1;32m    691\u001b[0m \u001b[38;5;28;01mexcept\u001b[39;00m \u001b[38;5;167;01mException\u001b[39;00m \u001b[38;5;28;01mas\u001b[39;00m e:  \u001b[38;5;66;03m# pylint:disable=broad-except\u001b[39;00m\n\u001b[1;32m    692\u001b[0m   \u001b[38;5;28;01mif\u001b[39;00m \u001b[38;5;28mhasattr\u001b[39m(e, \u001b[38;5;124m'\u001b[39m\u001b[38;5;124mag_error_metadata\u001b[39m\u001b[38;5;124m'\u001b[39m):\n",
      "File \u001b[0;32m~/Desktop/Data-Science/venv/lib/python3.11/site-packages/tensorflow/python/autograph/impl/api.py:439\u001b[0m, in \u001b[0;36mconverted_call\u001b[0;34m(f, args, kwargs, caller_fn_scope, options)\u001b[0m\n\u001b[1;32m    437\u001b[0m \u001b[38;5;28;01mtry\u001b[39;00m:\n\u001b[1;32m    438\u001b[0m   \u001b[38;5;28;01mif\u001b[39;00m kwargs \u001b[38;5;129;01mis\u001b[39;00m \u001b[38;5;129;01mnot\u001b[39;00m \u001b[38;5;28;01mNone\u001b[39;00m:\n\u001b[0;32m--> 439\u001b[0m     result \u001b[38;5;241m=\u001b[39m \u001b[43mconverted_f\u001b[49m\u001b[43m(\u001b[49m\u001b[38;5;241;43m*\u001b[39;49m\u001b[43meffective_args\u001b[49m\u001b[43m,\u001b[49m\u001b[43m \u001b[49m\u001b[38;5;241;43m*\u001b[39;49m\u001b[38;5;241;43m*\u001b[39;49m\u001b[43mkwargs\u001b[49m\u001b[43m)\u001b[49m\n\u001b[1;32m    440\u001b[0m   \u001b[38;5;28;01melse\u001b[39;00m:\n\u001b[1;32m    441\u001b[0m     result \u001b[38;5;241m=\u001b[39m converted_f(\u001b[38;5;241m*\u001b[39meffective_args)\n",
      "\u001b[0;31mTypeError\u001b[0m: in user code:\n\n\n    TypeError: outer_factory.<locals>.inner_factory.<locals>.tf__scale() missing 1 required positional argument: 'label'\n"
     ]
    }
   ],
   "source": [
    "train_ds = train_ds.map(scale)"
   ]
  },
  {
   "cell_type": "code",
   "execution_count": null,
   "id": "42830477",
   "metadata": {},
   "outputs": [],
   "source": []
  },
  {
   "cell_type": "code",
   "execution_count": null,
   "id": "64f4d58b",
   "metadata": {},
   "outputs": [],
   "source": []
  }
 ],
 "metadata": {
  "kernelspec": {
   "display_name": "Python 3 (ipykernel)",
   "language": "python",
   "name": "python3"
  },
  "language_info": {
   "codemirror_mode": {
    "name": "ipython",
    "version": 3
   },
   "file_extension": ".py",
   "mimetype": "text/x-python",
   "name": "python",
   "nbconvert_exporter": "python",
   "pygments_lexer": "ipython3",
   "version": "3.11.3"
  }
 },
 "nbformat": 4,
 "nbformat_minor": 5
}
