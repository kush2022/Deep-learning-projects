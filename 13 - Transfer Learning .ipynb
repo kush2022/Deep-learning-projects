{
 "cells": [
  {
   "cell_type": "markdown",
   "id": "9eddabf4",
   "metadata": {},
   "source": [
    "## Transfer Learning \n",
    "\n",
    "- is a machine learning technique where a model trained on one task is adapted or fine-tuned for a different but related task. \n",
    "- it involves taking a pre-trained model, usually from a large and diverse dataset, and using it as a starting point to train a new model on a smaller dataset or different but related problem. \n",
    "- Transfer learning is particularly powerful when you have limited data for your target task."
   ]
  },
  {
   "cell_type": "markdown",
   "id": "a110ebb7",
   "metadata": {},
   "source": [
    "1. **Pre-trained Model**\n",
    "- is a neural network that has already been trained on a vast amount of data, often for a different task, such as image classification or natural language processing. \n",
    "- These pre-trained model have learned to extract general features and patterns from the data \n",
    "\n",
    "\n",
    "2. **Feature Extraction**\n",
    "- the initial layers of a pre-trained model capture low-level features like edges, textures and basic shapes. \n",
    "- the later layer captures high-level features and concept relevant to the source task.\n",
    "\n",
    "3. **Fine Tuning**\n",
    "- After using the pre-trained layers as featur extractions, you add new layers on top. \n",
    "- These new layers are specified to the target task. \n"
   ]
  },
  {
   "cell_type": "code",
   "execution_count": null,
   "id": "279e867c",
   "metadata": {},
   "outputs": [],
   "source": []
  }
 ],
 "metadata": {
  "kernelspec": {
   "display_name": "Python 3 (ipykernel)",
   "language": "python",
   "name": "python3"
  },
  "language_info": {
   "codemirror_mode": {
    "name": "ipython",
    "version": 3
   },
   "file_extension": ".py",
   "mimetype": "text/x-python",
   "name": "python",
   "nbconvert_exporter": "python",
   "pygments_lexer": "ipython3",
   "version": "3.11.3"
  }
 },
 "nbformat": 4,
 "nbformat_minor": 5
}
