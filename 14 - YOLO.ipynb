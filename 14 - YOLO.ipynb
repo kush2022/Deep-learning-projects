{
 "cells": [
  {
   "cell_type": "markdown",
   "id": "772f5d6a",
   "metadata": {},
   "source": [
    "## YOLO \n",
    "- (You Only Look Once) is a state-of-the-art real-time object detection system that can detect multiple objects in an image or video stream. \n",
    "- What makes YOLO unique is its ability to perform oobject detection in a single pass through the neural network, making it extremely fast and efficient for real-time applications. \n",
    "\n",
    "\n",
    "\n",
    "**Here are some key features and concepts related to YOLO**\n",
    "1. **Single Shot Detection** \n",
    "- YOLO is a single-shot object detector meaning it processes the entire image in one forward pass through the neural network and makes predictions for all objects simultaneously. \n",
    "\n",
    "2. **Grid-Based Detection**\n",
    "- YOLO divides the input image into a grid of cells. \n",
    "- Each cell is responsible for predicting objects that fall within it.\n",
    "- For each cell, YOLO predicts bounding boxes, class probabilities, and objectness scores.\n",
    "\n",
    "\n",
    "3. **Bounding Box Predictions**\n",
    "- YOLO predicts boundig boxes for each object. Each bounding box is defined by its coordinates(x,y) for the center box, its width (w) and its height (h)\n",
    "\n",
    "\n",
    "4. **Class Predictions**\n",
    "- YOLO assigns class probabilities to each bounding box, indicating the likelihood that the object in the box belongs to a particular class. \n",
    "\n",
    "\n",
    "5. **Objectness Score**\n",
    "- YOLO predicts an objectness score for each bounding box, which represents the confidence that an object is present within the box.\n",
    "- High objectness scores indicate high confidence in object detection. \n",
    "\n",
    "6. **"
   ]
  }
 ],
 "metadata": {
  "kernelspec": {
   "display_name": "Python 3 (ipykernel)",
   "language": "python",
   "name": "python3"
  },
  "language_info": {
   "codemirror_mode": {
    "name": "ipython",
    "version": 3
   },
   "file_extension": ".py",
   "mimetype": "text/x-python",
   "name": "python",
   "nbconvert_exporter": "python",
   "pygments_lexer": "ipython3",
   "version": "3.11.3"
  }
 },
 "nbformat": 4,
 "nbformat_minor": 5
}
